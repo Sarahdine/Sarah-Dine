{
  "nbformat": 4,
  "nbformat_minor": 0,
  "metadata": {
    "colab": {
      "provenance": [],
      "include_colab_link": true
    },
    "kernelspec": {
      "name": "python3",
      "display_name": "Python 3"
    },
    "language_info": {
      "name": "python"
    }
  },
  "cells": [
    {
      "cell_type": "markdown",
      "metadata": {
        "id": "view-in-github",
        "colab_type": "text"
      },
      "source": [
        "<a href=\"https://colab.research.google.com/github/Sarahdine/Sarah-Dine/blob/main/C%C3%B3pia_de_C%C3%B3pia_de_Aula_1_pr%C3%A1tica_e_intuitiva_sobre_Redes_Neurais_Ex1_(5).ipynb\" target=\"_parent\"><img src=\"https://colab.research.google.com/assets/colab-badge.svg\" alt=\"Open In Colab\"/></a>"
      ]
    },
    {
      "cell_type": "markdown",
      "source": [
        "Um exemplo simples em Python que demonstra como um único neurônio pode aprender. O código vai incluir:\n",
        "\n",
        "1. Um dataset fictício.\n",
        "\n",
        "2. A possibilidade de escolher entre diferentes funções de ativação (Sigmóide, ReLU e Tangente Hiperbólica).\n",
        "\n",
        "3. Um loop de treinamento onde o neurônio ajusta seus pesos para minimizar o erro."
      ],
      "metadata": {
        "id": "Qa8PGyuUS4RE"
      }
    },
    {
      "cell_type": "code",
      "execution_count": 2,
      "metadata": {
        "id": "HzYNs_YNSpOn",
        "colab": {
          "base_uri": "https://localhost:8080/"
        },
        "outputId": "fe0c1e23-8e99-4192-b6d2-a51f0067dfa2"
      },
      "outputs": [
        {
          "output_type": "stream",
          "name": "stdout",
          "text": [
            "Época 0, Erro: 0.1702637096826596\n"
          ]
        }
      ],
      "source": [
        "import numpy as np\n",
        "import matplotlib.pyplot as plt\n",
        "\n",
        "# Funções de ativação\n",
        "def sigmoid(x):\n",
        "    return 1 / (1 + np.exp(-x))\n",
        "\n",
        "def relu(x):\n",
        "    return np.maximum(0, x)\n",
        "\n",
        "def tanh(x):\n",
        "    return np.tanh(x)\n",
        "\n",
        "# Derivadas das funções de ativação (para o gradiente)\n",
        "def sigmoid_derivative(x):\n",
        "    return sigmoid(x) * (1 - sigmoid(x))\n",
        "\n",
        "def relu_derivative(x):\n",
        "    return np.where(x > 0, 1, 0)\n",
        "\n",
        "def tanh_derivative(x):\n",
        "    return 1 - np.tanh(x)**2\n",
        "\n",
        "# Dataset fictício (problema de classificação binária)\n",
        "X = np.array([[0, 0], [0, 1], [1, 0], [1, 1]])  # Entradas\n",
        "y = np.array([[0], [1], [1], [1]])              # Saídas esperadas\n",
        "\n",
        "# Hiperparâmetros(pede para calcular mais rapido)\n",
        "learning_rate = 0.1\n",
        "epochs = 100\n",
        "\n",
        "# Inicialização dos pesos e viés\n",
        "np.random.seed(42)\n",
        "weights = np.random.randn(2, 1)\n",
        "bias = np.random.randn()\n",
        "\n",
        "# Escolha da função de ativação(Pode colocar em modo relu onde esta o sigmoid )\n",
        "activation_function = relu\n",
        "activation_derivative = relu_derivative\n",
        "\n",
        "# Treinamento do neurônio (quantidade de vezes)\n",
        "errors = []\n",
        "for epoch in range(epochs):\n",
        "    # Forward pass\n",
        "    weighted_sum = np.dot(X, weights) + bias\n",
        "    output = activation_function(weighted_sum)\n",
        "\n",
        "    # Cálculo do erro (erro quadrático médio)\n",
        "    error = y - output\n",
        "    errors.append(np.mean(np.square(error)))\n",
        "\n",
        "    # Backpropagation (ajuste dos pesos e viés)(corrigir o peso do y..o resultado)\n",
        "    d_error = -2 * error / len(X)  # Derivada do erro quadrático\n",
        "    d_output = activation_derivative(weighted_sum)\n",
        "    gradient = d_error * d_output\n",
        "\n",
        "    weights -= learning_rate * np.dot(X.T, gradient)\n",
        "    bias -= learning_rate * np.sum(gradient)\n",
        "\n",
        "    # Exibir progresso a cada 100 épocas\n",
        "    if epoch % 100 == 0:\n",
        "        print(f\"Época {epoch}, Erro: {errors[-1]}\")\n"
      ]
    },
    {
      "cell_type": "code",
      "source": [
        "# Plot do erro ao longo do treinamento(colocando no grafico)\n",
        "plt.plot(range(epochs), errors)\n",
        "plt.title(\"Erro ao longo do treinamento\")\n",
        "plt.xlabel(\"Época\")\n",
        "plt.ylabel(\"Erro\")\n",
        "plt.show()\n",
        "\n",
        "# Teste do neurônio treinado\n",
        "print(\"\\nTeste do neurônio treinado:\")\n",
        "for i in range(len(X)):\n",
        "    weighted_sum = np.dot(X[i], weights) + bias\n",
        "    output = activation_function(weighted_sum)\n",
        "    print(f\"Entrada: {X[i]}, Saída esperada: {y[i]}, Saída do neurônio: {output}\")"
      ],
      "metadata": {
        "colab": {
          "base_uri": "https://localhost:8080/",
          "height": 578
        },
        "id": "c7X5a5NmTCyh",
        "outputId": "aff31616-e830-44ae-891a-f741aa672d02"
      },
      "execution_count": null,
      "outputs": [
        {
          "output_type": "display_data",
          "data": {
            "text/plain": [
              "<Figure size 640x480 with 1 Axes>"
            ],
            "image/png": "[encoded data removed]"
          },
          "metadata": {}
        },
        {
          "output_type": "stream",
          "name": "stdout",
          "text": [
            "\n",
            "Teste do neurônio treinado:\n",
            "Entrada: [0 0], Saída esperada: [0], Saída do neurônio: [0.21024185]\n",
            "Entrada: [0 1], Saída esperada: [1], Saída do neurônio: [0.76051997]\n",
            "Entrada: [1 0], Saída esperada: [1], Saída do neurônio: [0.76051997]\n",
            "Entrada: [1 1], Saída esperada: [1], Saída do neurônio: [1.31079809]\n"
          ]
        }
      ]
    }
  ]
}